{
 "cells": [
  {
   "cell_type": "code",
   "execution_count": 1,
   "id": "015bbc30",
   "metadata": {},
   "outputs": [],
   "source": [
    "import cv2"
   ]
  },
  {
   "cell_type": "code",
   "execution_count": 9,
   "id": "672d613a",
   "metadata": {},
   "outputs": [],
   "source": [
    "#Write the frame as JPG file\n",
    "obj = cv2.VideoCapture(0)\n",
    "while(True):\n",
    "    cap,frame = obj.read()\n",
    "    cv2.imshow('video_image.jpg',frame)\n",
    "    cv2.imwrite(\"out.jpg\",frame)\n",
    "    if cv2.waitKey(1) == ord('q'):\n",
    "        break\n",
    "obj.release()\n",
    "cv2.destroyAllWindows()"
   ]
  },
  {
   "cell_type": "code",
   "execution_count": 4,
   "id": "8e9b6ac6",
   "metadata": {},
   "outputs": [],
   "source": [
    "#Display the video\n",
    "obj=cv2.VideoCapture(0)\n",
    "while(True):\n",
    "    cap,frame=obj.read()\n",
    "    cv2.imshow('vid_img',frame)\n",
    "    if cv2.waitKey(1)==ord('m'):\n",
    "        break\n",
    "obj.release()\n",
    "cv2.destroyAllWindows()"
   ]
  },
  {
   "cell_type": "code",
   "execution_count": 5,
   "id": "40e8a974",
   "metadata": {},
   "outputs": [],
   "source": [
    "#Display the video by resizing the window\n",
    "import numpy as np\n",
    "cap=cv2.VideoCapture(0)\n",
    "while True:\n",
    "    ret,frame=cap.read()\n",
    "    w=int(cap.get(3))\n",
    "    h=int(cap.get(4))\n",
    "    img=np.zeros(frame.shape,np.uint8)\n",
    "    small_f=cv2.resize(frame,(0,0),fx=0.5,fy=0.5)\n",
    "    img[:h//2,:w//2]=small_f\n",
    "    img[h//2:,:w//2]=small_f\n",
    "    img[:h//2,w//2:]=small_f\n",
    "    img[h//2:,w//2:]=small_f\n",
    "    cv2.imshow('img',img)\n",
    "    if cv2.waitKey(1) == ord('q'):\n",
    "        break\n",
    "cap.release()\n",
    "cv2.destroyAllWindows()"
   ]
  },
  {
   "cell_type": "code",
   "execution_count": 8,
   "id": "00bcdc82",
   "metadata": {},
   "outputs": [],
   "source": [
    "#Rotate and display the video\n",
    "import numpy as np\n",
    "cap=cv2.VideoCapture(0)\n",
    "while True:\n",
    "    ret,frame=cap.read()\n",
    "    w=int(cap.get(3))\n",
    "    h=int(cap.get(4))\n",
    "    img=np.zeros(frame.shape,np.uint8)\n",
    "    small_frame=cv2.resize(frame,(0,0),fx=0.5,fy=0.5)\n",
    "    img[:h//2,:w//2]=cv2.rotate(small_frame,cv2.ROTATE_180)\n",
    "    img[h//2:,:w//2]=cv2.rotate(small_frame,cv2.ROTATE_180)\n",
    "    img[:h//2,w//2:]=small_frame\n",
    "    img[h//2:,w//2:]=small_frame\n",
    "    cv2.imshow('img',img)\n",
    "    if cv2.waitKey(1) == ord('q'):\n",
    "        break\n",
    "cap.release()\n",
    "cv2.destroyAllWindows()"
   ]
  }
 ],
 "metadata": {
  "kernelspec": {
   "display_name": "Python 3 (ipykernel)",
   "language": "python",
   "name": "python3"
  },
  "language_info": {
   "codemirror_mode": {
    "name": "ipython",
    "version": 3
   },
   "file_extension": ".py",
   "mimetype": "text/x-python",
   "name": "python",
   "nbconvert_exporter": "python",
   "pygments_lexer": "ipython3",
   "version": "3.9.7"
  }
 },
 "nbformat": 4,
 "nbformat_minor": 5
}
